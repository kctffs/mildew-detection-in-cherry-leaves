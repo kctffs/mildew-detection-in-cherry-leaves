{
  "cells": [
    {
      "cell_type": "markdown",
      "metadata": {
        "id": "0aStgWSO0E0E"
      },
      "source": [
        "# **Data Collection**"
      ]
    },
    {
      "cell_type": "markdown",
      "metadata": {
        "id": "1eLEkw5O0ECa"
      },
      "source": [
        "## Objectives\n",
        "\n",
        "* Fetch data from Kaggle and formulate for future operation.\n",
        "\n",
        "## Inputs\n",
        "\n",
        "* Kaggle JSON File which is an authentication token.\n",
        "\n",
        "## Outputs\n",
        "\n",
        "* The generated dataset will be inputs/cherryleaves_dataset/cherry-leaves.\n",
        "- The dataset will conists of 3 folders presenting:\n",
        "    - **train**, **test** & **validation**\n",
        "- These folders will also consist of 2 further folders presenting:\n",
        "    - **healthy** & **powdery_mildew**\n",
        "\n",
        "## Additional Comments\n",
        "\n",
        "* These steps are imperative to fetch the data, clean the data and then provide for the next step: Data Visualisation.\n",
        "\n"
      ]
    },
    {
      "cell_type": "markdown",
      "metadata": {
        "id": "9uWZXH9LwoQg"
      },
      "source": [
        "---"
      ]
    },
    {
      "cell_type": "markdown",
      "metadata": {},
      "source": [
        "# Import Packages"
      ]
    },
    {
      "cell_type": "code",
      "execution_count": 3,
      "metadata": {},
      "outputs": [
        {
          "name": "stderr",
          "output_type": "stream",
          "text": [
            "1938.00s - pydevd: Sending message related to process being replaced timed-out after 5 seconds\n"
          ]
        },
        {
          "name": "stdout",
          "output_type": "stream",
          "text": [
            "Requirement already satisfied: numpy==1.26.1 in /workspace/.pip-modules/lib/python3.12/site-packages (from -r /workspace/mildew-detection-in-cherry-leaves/requirements.txt (line 1)) (1.26.1)\n",
            "Requirement already satisfied: pandas==2.1.1 in /workspace/.pip-modules/lib/python3.12/site-packages (from -r /workspace/mildew-detection-in-cherry-leaves/requirements.txt (line 2)) (2.1.1)\n",
            "Requirement already satisfied: matplotlib==3.8.0 in /workspace/.pip-modules/lib/python3.12/site-packages (from -r /workspace/mildew-detection-in-cherry-leaves/requirements.txt (line 3)) (3.8.0)\n",
            "Requirement already satisfied: seaborn==0.13.2 in /workspace/.pip-modules/lib/python3.12/site-packages (from -r /workspace/mildew-detection-in-cherry-leaves/requirements.txt (line 4)) (0.13.2)\n",
            "Requirement already satisfied: plotly==5.17.0 in /workspace/.pip-modules/lib/python3.12/site-packages (from -r /workspace/mildew-detection-in-cherry-leaves/requirements.txt (line 5)) (5.17.0)\n",
            "Requirement already satisfied: Pillow==10.0.1 in /workspace/.pip-modules/lib/python3.12/site-packages (from -r /workspace/mildew-detection-in-cherry-leaves/requirements.txt (line 6)) (10.0.1)\n",
            "Requirement already satisfied: streamlit==1.40.2 in /workspace/.pip-modules/lib/python3.12/site-packages (from -r /workspace/mildew-detection-in-cherry-leaves/requirements.txt (line 7)) (1.40.2)\n",
            "Requirement already satisfied: joblib==1.4.2 in /workspace/.pip-modules/lib/python3.12/site-packages (from -r /workspace/mildew-detection-in-cherry-leaves/requirements.txt (line 8)) (1.4.2)\n",
            "Requirement already satisfied: scikit-learn==1.3.1 in /workspace/.pip-modules/lib/python3.12/site-packages (from -r /workspace/mildew-detection-in-cherry-leaves/requirements.txt (line 9)) (1.3.1)\n",
            "Requirement already satisfied: tensorflow-cpu==2.16.1 in /workspace/.pip-modules/lib/python3.12/site-packages (from -r /workspace/mildew-detection-in-cherry-leaves/requirements.txt (line 10)) (2.16.1)\n",
            "Requirement already satisfied: keras>=3.0.0 in /workspace/.pip-modules/lib/python3.12/site-packages (from -r /workspace/mildew-detection-in-cherry-leaves/requirements.txt (line 11)) (3.7.0)\n",
            "Requirement already satisfied: python-dateutil>=2.8.2 in /home/gitpod/.pyenv/versions/3.12.2/lib/python3.12/site-packages (from pandas==2.1.1->-r /workspace/mildew-detection-in-cherry-leaves/requirements.txt (line 2)) (2.9.0.post0)\n",
            "Requirement already satisfied: pytz>=2020.1 in /workspace/.pip-modules/lib/python3.12/site-packages (from pandas==2.1.1->-r /workspace/mildew-detection-in-cherry-leaves/requirements.txt (line 2)) (2024.2)\n",
            "Requirement already satisfied: tzdata>=2022.1 in /workspace/.pip-modules/lib/python3.12/site-packages (from pandas==2.1.1->-r /workspace/mildew-detection-in-cherry-leaves/requirements.txt (line 2)) (2024.2)\n",
            "Requirement already satisfied: contourpy>=1.0.1 in /workspace/.pip-modules/lib/python3.12/site-packages (from matplotlib==3.8.0->-r /workspace/mildew-detection-in-cherry-leaves/requirements.txt (line 3)) (1.3.1)\n",
            "Requirement already satisfied: cycler>=0.10 in /workspace/.pip-modules/lib/python3.12/site-packages (from matplotlib==3.8.0->-r /workspace/mildew-detection-in-cherry-leaves/requirements.txt (line 3)) (0.12.1)\n",
            "Requirement already satisfied: fonttools>=4.22.0 in /workspace/.pip-modules/lib/python3.12/site-packages (from matplotlib==3.8.0->-r /workspace/mildew-detection-in-cherry-leaves/requirements.txt (line 3)) (4.55.3)\n",
            "Requirement already satisfied: kiwisolver>=1.0.1 in /workspace/.pip-modules/lib/python3.12/site-packages (from matplotlib==3.8.0->-r /workspace/mildew-detection-in-cherry-leaves/requirements.txt (line 3)) (1.4.8)\n",
            "Requirement already satisfied: packaging>=20.0 in /home/gitpod/.pyenv/versions/3.12.2/lib/python3.12/site-packages (from matplotlib==3.8.0->-r /workspace/mildew-detection-in-cherry-leaves/requirements.txt (line 3)) (24.2)\n",
            "Requirement already satisfied: pyparsing>=2.3.1 in /workspace/.pip-modules/lib/python3.12/site-packages (from matplotlib==3.8.0->-r /workspace/mildew-detection-in-cherry-leaves/requirements.txt (line 3)) (3.2.1)\n",
            "Requirement already satisfied: tenacity>=6.2.0 in /workspace/.pip-modules/lib/python3.12/site-packages (from plotly==5.17.0->-r /workspace/mildew-detection-in-cherry-leaves/requirements.txt (line 5)) (9.0.0)\n",
            "Requirement already satisfied: altair<6,>=4.0 in /workspace/.pip-modules/lib/python3.12/site-packages (from streamlit==1.40.2->-r /workspace/mildew-detection-in-cherry-leaves/requirements.txt (line 7)) (5.5.0)\n",
            "Requirement already satisfied: blinker<2,>=1.0.0 in /workspace/.pip-modules/lib/python3.12/site-packages (from streamlit==1.40.2->-r /workspace/mildew-detection-in-cherry-leaves/requirements.txt (line 7)) (1.9.0)\n",
            "Requirement already satisfied: cachetools<6,>=4.0 in /workspace/.pip-modules/lib/python3.12/site-packages (from streamlit==1.40.2->-r /workspace/mildew-detection-in-cherry-leaves/requirements.txt (line 7)) (5.5.0)\n",
            "Requirement already satisfied: click<9,>=7.0 in /workspace/.pip-modules/lib/python3.12/site-packages (from streamlit==1.40.2->-r /workspace/mildew-detection-in-cherry-leaves/requirements.txt (line 7)) (8.1.8)\n",
            "Requirement already satisfied: protobuf<6,>=3.20 in /workspace/.pip-modules/lib/python3.12/site-packages (from streamlit==1.40.2->-r /workspace/mildew-detection-in-cherry-leaves/requirements.txt (line 7)) (4.25.5)\n",
            "Requirement already satisfied: pyarrow>=7.0 in /workspace/.pip-modules/lib/python3.12/site-packages (from streamlit==1.40.2->-r /workspace/mildew-detection-in-cherry-leaves/requirements.txt (line 7)) (18.1.0)\n",
            "Requirement already satisfied: requests<3,>=2.27 in /home/gitpod/.pyenv/versions/3.12.2/lib/python3.12/site-packages (from streamlit==1.40.2->-r /workspace/mildew-detection-in-cherry-leaves/requirements.txt (line 7)) (2.32.3)\n",
            "Requirement already satisfied: rich<14,>=10.14.0 in /home/gitpod/.pyenv/versions/3.12.2/lib/python3.12/site-packages (from streamlit==1.40.2->-r /workspace/mildew-detection-in-cherry-leaves/requirements.txt (line 7)) (13.9.4)\n",
            "Requirement already satisfied: toml<2,>=0.10.1 in /workspace/.pip-modules/lib/python3.12/site-packages (from streamlit==1.40.2->-r /workspace/mildew-detection-in-cherry-leaves/requirements.txt (line 7)) (0.10.2)\n",
            "Requirement already satisfied: typing-extensions<5,>=4.3.0 in /home/gitpod/.pyenv/versions/3.12.2/lib/python3.12/site-packages (from streamlit==1.40.2->-r /workspace/mildew-detection-in-cherry-leaves/requirements.txt (line 7)) (4.12.2)\n",
            "Requirement already satisfied: watchdog<7,>=2.1.5 in /workspace/.pip-modules/lib/python3.12/site-packages (from streamlit==1.40.2->-r /workspace/mildew-detection-in-cherry-leaves/requirements.txt (line 7)) (6.0.0)\n",
            "Requirement already satisfied: gitpython!=3.1.19,<4,>=3.0.7 in /workspace/.pip-modules/lib/python3.12/site-packages (from streamlit==1.40.2->-r /workspace/mildew-detection-in-cherry-leaves/requirements.txt (line 7)) (3.1.44)\n",
            "Requirement already satisfied: pydeck<1,>=0.8.0b4 in /workspace/.pip-modules/lib/python3.12/site-packages (from streamlit==1.40.2->-r /workspace/mildew-detection-in-cherry-leaves/requirements.txt (line 7)) (0.9.1)\n",
            "Requirement already satisfied: tornado<7,>=6.0.3 in /home/gitpod/.pyenv/versions/3.12.2/lib/python3.12/site-packages (from streamlit==1.40.2->-r /workspace/mildew-detection-in-cherry-leaves/requirements.txt (line 7)) (6.4.2)\n",
            "Requirement already satisfied: scipy>=1.5.0 in /workspace/.pip-modules/lib/python3.12/site-packages (from scikit-learn==1.3.1->-r /workspace/mildew-detection-in-cherry-leaves/requirements.txt (line 9)) (1.15.0)\n",
            "Requirement already satisfied: threadpoolctl>=2.0.0 in /workspace/.pip-modules/lib/python3.12/site-packages (from scikit-learn==1.3.1->-r /workspace/mildew-detection-in-cherry-leaves/requirements.txt (line 9)) (3.5.0)\n",
            "Requirement already satisfied: absl-py>=1.0.0 in /workspace/.pip-modules/lib/python3.12/site-packages (from tensorflow-cpu==2.16.1->-r /workspace/mildew-detection-in-cherry-leaves/requirements.txt (line 10)) (2.1.0)\n",
            "Requirement already satisfied: astunparse>=1.6.0 in /workspace/.pip-modules/lib/python3.12/site-packages (from tensorflow-cpu==2.16.1->-r /workspace/mildew-detection-in-cherry-leaves/requirements.txt (line 10)) (1.6.3)\n",
            "Requirement already satisfied: flatbuffers>=23.5.26 in /workspace/.pip-modules/lib/python3.12/site-packages (from tensorflow-cpu==2.16.1->-r /workspace/mildew-detection-in-cherry-leaves/requirements.txt (line 10)) (24.12.23)\n",
            "Requirement already satisfied: gast!=0.5.0,!=0.5.1,!=0.5.2,>=0.2.1 in /workspace/.pip-modules/lib/python3.12/site-packages (from tensorflow-cpu==2.16.1->-r /workspace/mildew-detection-in-cherry-leaves/requirements.txt (line 10)) (0.6.0)\n",
            "Requirement already satisfied: google-pasta>=0.1.1 in /workspace/.pip-modules/lib/python3.12/site-packages (from tensorflow-cpu==2.16.1->-r /workspace/mildew-detection-in-cherry-leaves/requirements.txt (line 10)) (0.2.0)\n",
            "Requirement already satisfied: h5py>=3.10.0 in /workspace/.pip-modules/lib/python3.12/site-packages (from tensorflow-cpu==2.16.1->-r /workspace/mildew-detection-in-cherry-leaves/requirements.txt (line 10)) (3.12.1)\n",
            "Requirement already satisfied: libclang>=13.0.0 in /workspace/.pip-modules/lib/python3.12/site-packages (from tensorflow-cpu==2.16.1->-r /workspace/mildew-detection-in-cherry-leaves/requirements.txt (line 10)) (18.1.1)\n",
            "Requirement already satisfied: ml-dtypes~=0.3.1 in /workspace/.pip-modules/lib/python3.12/site-packages (from tensorflow-cpu==2.16.1->-r /workspace/mildew-detection-in-cherry-leaves/requirements.txt (line 10)) (0.3.2)\n",
            "Requirement already satisfied: opt-einsum>=2.3.2 in /workspace/.pip-modules/lib/python3.12/site-packages (from tensorflow-cpu==2.16.1->-r /workspace/mildew-detection-in-cherry-leaves/requirements.txt (line 10)) (3.4.0)\n",
            "Requirement already satisfied: setuptools in /home/gitpod/.pyenv/versions/3.12.2/lib/python3.12/site-packages (from tensorflow-cpu==2.16.1->-r /workspace/mildew-detection-in-cherry-leaves/requirements.txt (line 10)) (75.7.0)\n",
            "Requirement already satisfied: six>=1.12.0 in /home/gitpod/.pyenv/versions/3.12.2/lib/python3.12/site-packages (from tensorflow-cpu==2.16.1->-r /workspace/mildew-detection-in-cherry-leaves/requirements.txt (line 10)) (1.17.0)\n",
            "Requirement already satisfied: termcolor>=1.1.0 in /workspace/.pip-modules/lib/python3.12/site-packages (from tensorflow-cpu==2.16.1->-r /workspace/mildew-detection-in-cherry-leaves/requirements.txt (line 10)) (2.5.0)\n",
            "Requirement already satisfied: wrapt>=1.11.0 in /workspace/.pip-modules/lib/python3.12/site-packages (from tensorflow-cpu==2.16.1->-r /workspace/mildew-detection-in-cherry-leaves/requirements.txt (line 10)) (1.17.0)\n",
            "Requirement already satisfied: grpcio<2.0,>=1.24.3 in /workspace/.pip-modules/lib/python3.12/site-packages (from tensorflow-cpu==2.16.1->-r /workspace/mildew-detection-in-cherry-leaves/requirements.txt (line 10)) (1.69.0)\n",
            "Requirement already satisfied: tensorboard<2.17,>=2.16 in /workspace/.pip-modules/lib/python3.12/site-packages (from tensorflow-cpu==2.16.1->-r /workspace/mildew-detection-in-cherry-leaves/requirements.txt (line 10)) (2.16.2)\n",
            "Requirement already satisfied: namex in /workspace/.pip-modules/lib/python3.12/site-packages (from keras>=3.0.0->-r /workspace/mildew-detection-in-cherry-leaves/requirements.txt (line 11)) (0.0.8)\n",
            "Requirement already satisfied: optree in /workspace/.pip-modules/lib/python3.12/site-packages (from keras>=3.0.0->-r /workspace/mildew-detection-in-cherry-leaves/requirements.txt (line 11)) (0.13.1)\n",
            "Requirement already satisfied: jinja2 in /home/gitpod/.pyenv/versions/3.12.2/lib/python3.12/site-packages (from altair<6,>=4.0->streamlit==1.40.2->-r /workspace/mildew-detection-in-cherry-leaves/requirements.txt (line 7)) (3.1.5)\n",
            "Requirement already satisfied: jsonschema>=3.0 in /home/gitpod/.pyenv/versions/3.12.2/lib/python3.12/site-packages (from altair<6,>=4.0->streamlit==1.40.2->-r /workspace/mildew-detection-in-cherry-leaves/requirements.txt (line 7)) (4.23.0)\n",
            "Requirement already satisfied: narwhals>=1.14.2 in /workspace/.pip-modules/lib/python3.12/site-packages (from altair<6,>=4.0->streamlit==1.40.2->-r /workspace/mildew-detection-in-cherry-leaves/requirements.txt (line 7)) (1.21.0)\n",
            "Requirement already satisfied: wheel<1.0,>=0.23.0 in /home/gitpod/.pyenv/versions/3.12.2/lib/python3.12/site-packages (from astunparse>=1.6.0->tensorflow-cpu==2.16.1->-r /workspace/mildew-detection-in-cherry-leaves/requirements.txt (line 10)) (0.45.1)\n",
            "Requirement already satisfied: gitdb<5,>=4.0.1 in /workspace/.pip-modules/lib/python3.12/site-packages (from gitpython!=3.1.19,<4,>=3.0.7->streamlit==1.40.2->-r /workspace/mildew-detection-in-cherry-leaves/requirements.txt (line 7)) (4.0.12)\n",
            "Requirement already satisfied: charset-normalizer<4,>=2 in /home/gitpod/.pyenv/versions/3.12.2/lib/python3.12/site-packages (from requests<3,>=2.27->streamlit==1.40.2->-r /workspace/mildew-detection-in-cherry-leaves/requirements.txt (line 7)) (3.4.1)\n",
            "Requirement already satisfied: idna<4,>=2.5 in /home/gitpod/.pyenv/versions/3.12.2/lib/python3.12/site-packages (from requests<3,>=2.27->streamlit==1.40.2->-r /workspace/mildew-detection-in-cherry-leaves/requirements.txt (line 7)) (3.10)\n",
            "Requirement already satisfied: urllib3<3,>=1.21.1 in /home/gitpod/.pyenv/versions/3.12.2/lib/python3.12/site-packages (from requests<3,>=2.27->streamlit==1.40.2->-r /workspace/mildew-detection-in-cherry-leaves/requirements.txt (line 7)) (2.3.0)\n",
            "Requirement already satisfied: certifi>=2017.4.17 in /home/gitpod/.pyenv/versions/3.12.2/lib/python3.12/site-packages (from requests<3,>=2.27->streamlit==1.40.2->-r /workspace/mildew-detection-in-cherry-leaves/requirements.txt (line 7)) (2024.12.14)\n",
            "Requirement already satisfied: markdown-it-py>=2.2.0 in /home/gitpod/.pyenv/versions/3.12.2/lib/python3.12/site-packages (from rich<14,>=10.14.0->streamlit==1.40.2->-r /workspace/mildew-detection-in-cherry-leaves/requirements.txt (line 7)) (3.0.0)\n",
            "Requirement already satisfied: pygments<3.0.0,>=2.13.0 in /home/gitpod/.pyenv/versions/3.12.2/lib/python3.12/site-packages (from rich<14,>=10.14.0->streamlit==1.40.2->-r /workspace/mildew-detection-in-cherry-leaves/requirements.txt (line 7)) (2.19.1)\n",
            "Requirement already satisfied: markdown>=2.6.8 in /workspace/.pip-modules/lib/python3.12/site-packages (from tensorboard<2.17,>=2.16->tensorflow-cpu==2.16.1->-r /workspace/mildew-detection-in-cherry-leaves/requirements.txt (line 10)) (3.7)\n",
            "Requirement already satisfied: tensorboard-data-server<0.8.0,>=0.7.0 in /workspace/.pip-modules/lib/python3.12/site-packages (from tensorboard<2.17,>=2.16->tensorflow-cpu==2.16.1->-r /workspace/mildew-detection-in-cherry-leaves/requirements.txt (line 10)) (0.7.2)\n",
            "Requirement already satisfied: werkzeug>=1.0.1 in /workspace/.pip-modules/lib/python3.12/site-packages (from tensorboard<2.17,>=2.16->tensorflow-cpu==2.16.1->-r /workspace/mildew-detection-in-cherry-leaves/requirements.txt (line 10)) (3.1.3)\n",
            "Requirement already satisfied: smmap<6,>=3.0.1 in /workspace/.pip-modules/lib/python3.12/site-packages (from gitdb<5,>=4.0.1->gitpython!=3.1.19,<4,>=3.0.7->streamlit==1.40.2->-r /workspace/mildew-detection-in-cherry-leaves/requirements.txt (line 7)) (5.0.2)\n",
            "Requirement already satisfied: MarkupSafe>=2.0 in /home/gitpod/.pyenv/versions/3.12.2/lib/python3.12/site-packages (from jinja2->altair<6,>=4.0->streamlit==1.40.2->-r /workspace/mildew-detection-in-cherry-leaves/requirements.txt (line 7)) (3.0.2)\n",
            "Requirement already satisfied: attrs>=22.2.0 in /home/gitpod/.pyenv/versions/3.12.2/lib/python3.12/site-packages (from jsonschema>=3.0->altair<6,>=4.0->streamlit==1.40.2->-r /workspace/mildew-detection-in-cherry-leaves/requirements.txt (line 7)) (24.3.0)\n",
            "Requirement already satisfied: jsonschema-specifications>=2023.03.6 in /home/gitpod/.pyenv/versions/3.12.2/lib/python3.12/site-packages (from jsonschema>=3.0->altair<6,>=4.0->streamlit==1.40.2->-r /workspace/mildew-detection-in-cherry-leaves/requirements.txt (line 7)) (2024.10.1)\n",
            "Requirement already satisfied: referencing>=0.28.4 in /home/gitpod/.pyenv/versions/3.12.2/lib/python3.12/site-packages (from jsonschema>=3.0->altair<6,>=4.0->streamlit==1.40.2->-r /workspace/mildew-detection-in-cherry-leaves/requirements.txt (line 7)) (0.35.1)\n",
            "Requirement already satisfied: rpds-py>=0.7.1 in /home/gitpod/.pyenv/versions/3.12.2/lib/python3.12/site-packages (from jsonschema>=3.0->altair<6,>=4.0->streamlit==1.40.2->-r /workspace/mildew-detection-in-cherry-leaves/requirements.txt (line 7)) (0.22.3)\n",
            "Requirement already satisfied: mdurl~=0.1 in /home/gitpod/.pyenv/versions/3.12.2/lib/python3.12/site-packages (from markdown-it-py>=2.2.0->rich<14,>=10.14.0->streamlit==1.40.2->-r /workspace/mildew-detection-in-cherry-leaves/requirements.txt (line 7)) (0.1.2)\n"
          ]
        }
      ],
      "source": [
        "! pip install -r /workspace/mildew-detection-in-cherry-leaves/requirements.txt"
      ]
    },
    {
      "cell_type": "markdown",
      "metadata": {
        "id": "cqP-UeN-z3i2"
      },
      "source": [
        "# Change Working Directory"
      ]
    },
    {
      "cell_type": "markdown",
      "metadata": {
        "id": "aOGIGS-uz3i2"
      },
      "source": [
        "Changing the working directory from its current folder to its parent folder\n",
        "* Access the current directory with os.getcwd()"
      ]
    },
    {
      "cell_type": "code",
      "execution_count": 1,
      "metadata": {
        "id": "wZfF_j-Bz3i4",
        "outputId": "66943449-1436-4c3d-85c7-b85f9f78349b"
      },
      "outputs": [
        {
          "data": {
            "text/plain": [
              "'/workspace/mildew-detection-in-cherry-leaves/jupyter_notebooks'"
            ]
          },
          "execution_count": 1,
          "metadata": {},
          "output_type": "execute_result"
        }
      ],
      "source": [
        "import os\n",
        "current_dir = os.getcwd()\n",
        "current_dir"
      ]
    },
    {
      "cell_type": "markdown",
      "metadata": {
        "id": "9MWW8E7lz3i7"
      },
      "source": [
        "Making the parent of the current directory the new current directory\n",
        "* os.path.dirname() gets the parent directory\n",
        "* os.chir() defines the new current directory"
      ]
    },
    {
      "cell_type": "code",
      "execution_count": 2,
      "metadata": {
        "id": "TwHsQRWjz3i9",
        "outputId": "86849db3-cd2f-4cc5-ebb8-2d0caafa1a2c"
      },
      "outputs": [
        {
          "name": "stdout",
          "output_type": "stream",
          "text": [
            "You set a new current directory\n"
          ]
        }
      ],
      "source": [
        "os.chdir('/workspace/mildew-detection-in-cherry-leaves')\n",
        "print(\"You set a new current directory\")"
      ]
    },
    {
      "cell_type": "markdown",
      "metadata": {
        "id": "M_xPk_Ijz3i-"
      },
      "source": [
        "Confirm the new current directory"
      ]
    },
    {
      "cell_type": "code",
      "execution_count": 3,
      "metadata": {
        "id": "vz3S-_kjz3jA",
        "outputId": "00b79ae4-75d0-4a96-d193-ac9ef9847ea2"
      },
      "outputs": [
        {
          "data": {
            "text/plain": [
              "'/workspace/mildew-detection-in-cherry-leaves'"
            ]
          },
          "execution_count": 3,
          "metadata": {},
          "output_type": "execute_result"
        }
      ],
      "source": [
        "current_dir = os.getcwd()\n",
        "current_dir"
      ]
    },
    {
      "cell_type": "markdown",
      "metadata": {
        "id": "-mavJ8DibrcQ"
      },
      "source": [
        "# Kaggle Install"
      ]
    },
    {
      "cell_type": "code",
      "execution_count": 4,
      "metadata": {},
      "outputs": [
        {
          "name": "stdout",
          "output_type": "stream",
          "text": [
            "Collecting kaggle\n",
            "  Downloading kaggle-1.6.17.tar.gz (82 kB)\n",
            "  Preparing metadata (setup.py) ... \u001b[?25ldone\n",
            "\u001b[?25hRequirement already satisfied: six>=1.10 in /home/gitpod/.pyenv/versions/3.12.2/lib/python3.12/site-packages (from kaggle) (1.17.0)\n",
            "Requirement already satisfied: certifi>=2023.7.22 in /home/gitpod/.pyenv/versions/3.12.2/lib/python3.12/site-packages (from kaggle) (2024.12.14)\n",
            "Requirement already satisfied: python-dateutil in /home/gitpod/.pyenv/versions/3.12.2/lib/python3.12/site-packages (from kaggle) (2.9.0.post0)\n",
            "Requirement already satisfied: requests in /home/gitpod/.pyenv/versions/3.12.2/lib/python3.12/site-packages (from kaggle) (2.32.3)\n",
            "Collecting tqdm (from kaggle)\n",
            "  Downloading tqdm-4.67.1-py3-none-any.whl.metadata (57 kB)\n",
            "Collecting python-slugify (from kaggle)\n",
            "  Downloading python_slugify-8.0.4-py2.py3-none-any.whl.metadata (8.5 kB)\n",
            "Requirement already satisfied: urllib3 in /home/gitpod/.pyenv/versions/3.12.2/lib/python3.12/site-packages (from kaggle) (2.3.0)\n",
            "Requirement already satisfied: bleach in /home/gitpod/.pyenv/versions/3.12.2/lib/python3.12/site-packages (from kaggle) (6.2.0)\n",
            "Requirement already satisfied: webencodings in /home/gitpod/.pyenv/versions/3.12.2/lib/python3.12/site-packages (from bleach->kaggle) (0.5.1)\n",
            "Collecting text-unidecode>=1.3 (from python-slugify->kaggle)\n",
            "  Downloading text_unidecode-1.3-py2.py3-none-any.whl.metadata (2.4 kB)\n",
            "Requirement already satisfied: charset-normalizer<4,>=2 in /home/gitpod/.pyenv/versions/3.12.2/lib/python3.12/site-packages (from requests->kaggle) (3.4.1)\n",
            "Requirement already satisfied: idna<4,>=2.5 in /home/gitpod/.pyenv/versions/3.12.2/lib/python3.12/site-packages (from requests->kaggle) (3.10)\n",
            "Downloading python_slugify-8.0.4-py2.py3-none-any.whl (10 kB)\n",
            "Downloading tqdm-4.67.1-py3-none-any.whl (78 kB)\n",
            "Downloading text_unidecode-1.3-py2.py3-none-any.whl (78 kB)\n",
            "Building wheels for collected packages: kaggle\n",
            "  Building wheel for kaggle (setup.py) ... \u001b[?25ldone\n",
            "\u001b[?25h  Created wheel for kaggle: filename=kaggle-1.6.17-py3-none-any.whl size=105786 sha256=9ee264df39c408aa41c68e37a29ce404f269571d3531e1cd3eb947e84636b84c\n",
            "  Stored in directory: /home/gitpod/.cache/pip/wheels/46/d2/26/84d0a1acdb9c6baccf7d28cf06962ec80529fe1ad938489983\n",
            "Successfully built kaggle\n",
            "Installing collected packages: text-unidecode, tqdm, python-slugify, kaggle\n",
            "Successfully installed kaggle-1.6.17 python-slugify-8.0.4 text-unidecode-1.3 tqdm-4.67.1\n"
          ]
        }
      ],
      "source": [
        "! pip install kaggle"
      ]
    },
    {
      "cell_type": "markdown",
      "metadata": {},
      "source": [
        "Changing Kaggle configuration directory to the current working directory and determine permissions for the Kaggle authentication JSON."
      ]
    },
    {
      "cell_type": "code",
      "execution_count": 6,
      "metadata": {},
      "outputs": [],
      "source": [
        "os.environ['KAGGLE_CONFIG_DIR'] = os.getcwd()\n",
        "! chmod 600 kaggle.json"
      ]
    },
    {
      "cell_type": "markdown",
      "metadata": {},
      "source": [
        "Kaggle dataset and downloading."
      ]
    },
    {
      "cell_type": "code",
      "execution_count": 7,
      "metadata": {},
      "outputs": [
        {
          "name": "stdout",
          "output_type": "stream",
          "text": [
            "Dataset URL: https://www.kaggle.com/datasets/codeinstitute/cherry-leaves\n",
            "License(s): unknown\n",
            "Downloading cherry-leaves.zip to inputs/cherryleaves_dataset\n",
            " 91%|██████████████████████████████████▌   | 50.0M/55.0M [00:01<00:00, 29.0MB/s]\n",
            "100%|██████████████████████████████████████| 55.0M/55.0M [00:02<00:00, 27.6MB/s]\n"
          ]
        }
      ],
      "source": [
        "KaggleDatasetPath = \"codeinstitute/cherry-leaves\"\n",
        "DestinationFolder = \"inputs/cherryleaves_dataset\"\n",
        "! kaggle datasets download -d {KaggleDatasetPath} -p {DestinationFolder}"
      ]
    },
    {
      "cell_type": "markdown",
      "metadata": {},
      "source": [
        "Unzip the downloaded file and then delete the zip file."
      ]
    },
    {
      "cell_type": "code",
      "execution_count": 8,
      "metadata": {},
      "outputs": [],
      "source": [
        "import zipfile\n",
        "with zipfile.ZipFile(DestinationFolder + '/cherry-leaves.zip', 'r') as zip_ref:\n",
        "    zip_ref.extractall(DestinationFolder)\n",
        "\n",
        "os.remove(DestinationFolder + '/cherry-leaves.zip')"
      ]
    },
    {
      "cell_type": "markdown",
      "metadata": {
        "id": "ZY3l0-AxO93d"
      },
      "source": [
        "---"
      ]
    },
    {
      "cell_type": "markdown",
      "metadata": {
        "id": "uFQo3ycuO-v6"
      },
      "source": [
        "# Section 2"
      ]
    },
    {
      "cell_type": "markdown",
      "metadata": {},
      "source": [
        "Section 2 content"
      ]
    },
    {
      "cell_type": "code",
      "execution_count": null,
      "metadata": {},
      "outputs": [],
      "source": []
    },
    {
      "cell_type": "markdown",
      "metadata": {},
      "source": [
        "---"
      ]
    },
    {
      "cell_type": "markdown",
      "metadata": {},
      "source": [
        "NOTE"
      ]
    },
    {
      "cell_type": "markdown",
      "metadata": {},
      "source": [
        "* You may add as many sections as you want, as long as it supports your project workflow.\n",
        "* All notebook's cells should be run top-down (you can't create a dynamic wherein a given point you need to go back to a previous cell to execute some task, like go back to a previous cell and refresh a variable content)"
      ]
    },
    {
      "cell_type": "markdown",
      "metadata": {},
      "source": [
        "---"
      ]
    },
    {
      "cell_type": "markdown",
      "metadata": {
        "id": "ltNetd085qHf"
      },
      "source": [
        "# Push files to Repo"
      ]
    },
    {
      "cell_type": "markdown",
      "metadata": {},
      "source": [
        "* If you don't need to push files to Repo, you may replace this section with \"Conclusions and Next Steps\" and state your conclusions and next steps."
      ]
    },
    {
      "cell_type": "code",
      "execution_count": null,
      "metadata": {
        "id": "aKlnIozA4eQO",
        "outputId": "fd09bc1f-adb1-4511-f6ce-492a6af570c0"
      },
      "outputs": [],
      "source": [
        "import os\n",
        "try:\n",
        "    # create here your folder\n",
        "    # os.makedirs(name='')\n",
        "except Exception as e:\n",
        "    print(e)\n"
      ]
    }
  ],
  "metadata": {
    "accelerator": "GPU",
    "colab": {
      "name": "Data Practitioner Jupyter Notebook.ipynb",
      "provenance": [],
      "toc_visible": true
    },
    "kernelspec": {
      "display_name": "Python 3",
      "language": "python",
      "name": "python3"
    },
    "language_info": {
      "codemirror_mode": {
        "name": "ipython",
        "version": 3
      },
      "file_extension": ".py",
      "mimetype": "text/x-python",
      "name": "python",
      "nbconvert_exporter": "python",
      "pygments_lexer": "ipython3",
      "version": "3.12.2"
    },
    "orig_nbformat": 2
  },
  "nbformat": 4,
  "nbformat_minor": 2
}
